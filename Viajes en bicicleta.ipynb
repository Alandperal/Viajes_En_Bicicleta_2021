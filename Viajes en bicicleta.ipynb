{
 "cells": [
  {
   "cell_type": "markdown",
   "metadata": {
    "id": "tQQMjr7w4IT4"
   },
   "source": [
    "#Predicción de popularidad para canciones de Spotify\n",
    "\n",
    "## 1. Presentación\n",
    "\n",
    "##2. Objetivo\n",
    "\n",
    "El presente Kernel tiene como objetivo analizar de forma general los datos\n",
    "\n",
    "##3. Base de datos\n",
    "La base de datos se adquirió a través de https://data.buenosaires.gob.ar/dataset/ la cual contiene informacion sobre los viajes realizados en bicicletas del estado por la ciudad CABA en 2021"
   ]
  },
  {
   "cell_type": "markdown",
   "metadata": {
    "id": "r0w5hmOv9ERW"
   },
   "source": [
    "## Importar Paquetes necesarios."
   ]
  },
  {
   "cell_type": "code",
   "execution_count": 2,
   "metadata": {
    "id": "rwGLFuf93wxg"
   },
   "outputs": [],
   "source": [
    "import numpy as np \n",
    "import pandas as pd # Trabajo con bases de datos\n",
    "import seaborn as sns # Visualización de datos\n",
    "import matplotlib as mpl\n",
    "import matplotlib.pyplot as plt\n",
    "import seaborn as sns\n",
    "mpl.style.use('bmh') \n",
    "import matplotlib.style as style #Graficos\n"
   ]
  },
  {
   "cell_type": "code",
   "execution_count": 26,
   "metadata": {},
   "outputs": [],
   "source": [
    "from matplotlib.ticker import FormatStrFormatter"
   ]
  },
  {
   "cell_type": "markdown",
   "metadata": {
    "id": "V79qodZQ9YZP"
   },
   "source": [
    "## Lectura y vista de la base de datos"
   ]
  },
  {
   "cell_type": "code",
   "execution_count": 42,
   "metadata": {
    "colab": {
     "base_uri": "https://localhost:8080/",
     "height": 374
    },
    "id": "SCLZQkkB9YBD",
    "outputId": "35330d76-9381-4bc9-c64b-755844c59c31"
   },
   "outputs": [
    {
     "data": {
      "text/html": [
       "<div>\n",
       "<style scoped>\n",
       "    .dataframe tbody tr th:only-of-type {\n",
       "        vertical-align: middle;\n",
       "    }\n",
       "\n",
       "    .dataframe tbody tr th {\n",
       "        vertical-align: top;\n",
       "    }\n",
       "\n",
       "    .dataframe thead th {\n",
       "        text-align: right;\n",
       "    }\n",
       "</style>\n",
       "<table border=\"1\" class=\"dataframe\">\n",
       "  <thead>\n",
       "    <tr style=\"text-align: right;\">\n",
       "      <th></th>\n",
       "      <th>id_recorrido</th>\n",
       "      <th>duracion_recorrido</th>\n",
       "      <th>fecha_origen_recorrido</th>\n",
       "      <th>id_estacion_origen</th>\n",
       "      <th>nombre_estacion_origen</th>\n",
       "      <th>direccion_estacion_origen</th>\n",
       "      <th>long_estacion_origen</th>\n",
       "      <th>lat_estacion_origen</th>\n",
       "      <th>fecha_destino_recorrido</th>\n",
       "      <th>id_estacion_destino</th>\n",
       "      <th>nombre_estacion_destino</th>\n",
       "      <th>direccion_estacion_destino</th>\n",
       "      <th>long_estacion_destino</th>\n",
       "      <th>lat_estacion_destino</th>\n",
       "      <th>id_usuario</th>\n",
       "      <th>modelo_bicicleta</th>\n",
       "    </tr>\n",
       "  </thead>\n",
       "  <tbody>\n",
       "    <tr>\n",
       "      <th>0</th>\n",
       "      <td>10758473BAEcobici</td>\n",
       "      <td>591</td>\n",
       "      <td>2021-04-10 20:38:24 UTC</td>\n",
       "      <td>2BAEcobici</td>\n",
       "      <td>002 - Retiro I</td>\n",
       "      <td>Ramos Mejia, Jose Maria, Dr. Av. &amp; Del Liberta...</td>\n",
       "      <td>-58.374715</td>\n",
       "      <td>-34.592423</td>\n",
       "      <td>2021-04-10 20:48:15 UTC</td>\n",
       "      <td>95BAEcobici</td>\n",
       "      <td>095 - ESMERALDA</td>\n",
       "      <td>ESMERALDA 516</td>\n",
       "      <td>-58.378168</td>\n",
       "      <td>-34.602112</td>\n",
       "      <td>86840BAEcobici</td>\n",
       "      <td>ICONIC</td>\n",
       "    </tr>\n",
       "    <tr>\n",
       "      <th>1</th>\n",
       "      <td>10757803BAEcobici</td>\n",
       "      <td>1321</td>\n",
       "      <td>2021-04-10 16:34:08 UTC</td>\n",
       "      <td>2BAEcobici</td>\n",
       "      <td>002 - Retiro I</td>\n",
       "      <td>Ramos Mejia, Jose Maria, Dr. Av. &amp; Del Liberta...</td>\n",
       "      <td>-58.374715</td>\n",
       "      <td>-34.592423</td>\n",
       "      <td>2021-04-10 16:56:09 UTC</td>\n",
       "      <td>73BAEcobici</td>\n",
       "      <td>073 - Ruy Díaz de Guzmán</td>\n",
       "      <td>Avenida Martin Garcia y Ruy Díaz de Guzmán</td>\n",
       "      <td>-58.371823</td>\n",
       "      <td>-34.630681</td>\n",
       "      <td>52860BAEcobici</td>\n",
       "      <td>ICONIC</td>\n",
       "    </tr>\n",
       "    <tr>\n",
       "      <th>2</th>\n",
       "      <td>10756603BAEcobici</td>\n",
       "      <td>380</td>\n",
       "      <td>2021-04-10 07:06:00 UTC</td>\n",
       "      <td>3BAEcobici</td>\n",
       "      <td>003 - ADUANA</td>\n",
       "      <td>Moreno &amp; Av Paseo Colon</td>\n",
       "      <td>-58.368260</td>\n",
       "      <td>-34.611032</td>\n",
       "      <td>2021-04-10 07:12:20 UTC</td>\n",
       "      <td>150BAEcobici</td>\n",
       "      <td>150 - RODRIGO BUENO</td>\n",
       "      <td>Av. España 2200</td>\n",
       "      <td>-58.355465</td>\n",
       "      <td>-34.618755</td>\n",
       "      <td>375594BAEcobici</td>\n",
       "      <td>ICONIC</td>\n",
       "    </tr>\n",
       "    <tr>\n",
       "      <th>3</th>\n",
       "      <td>10756618BAEcobici</td>\n",
       "      <td>1436</td>\n",
       "      <td>2021-04-10 07:25:08 UTC</td>\n",
       "      <td>4BAEcobici</td>\n",
       "      <td>004 - Plaza Roma</td>\n",
       "      <td>Lavalle &amp; Bouchard</td>\n",
       "      <td>-58.368781</td>\n",
       "      <td>-34.601822</td>\n",
       "      <td>2021-04-10 07:49:04 UTC</td>\n",
       "      <td>353BAEcobici</td>\n",
       "      <td>237 - Madero Office</td>\n",
       "      <td>367 Sanchez De Thompson, Mariquita</td>\n",
       "      <td>-58.364695</td>\n",
       "      <td>-34.599036</td>\n",
       "      <td>489972BAEcobici</td>\n",
       "      <td>ICONIC</td>\n",
       "    </tr>\n",
       "    <tr>\n",
       "      <th>4</th>\n",
       "      <td>10757830BAEcobici</td>\n",
       "      <td>3736</td>\n",
       "      <td>2021-04-10 16:45:01 UTC</td>\n",
       "      <td>4BAEcobici</td>\n",
       "      <td>004 - Plaza Roma</td>\n",
       "      <td>Lavalle &amp; Bouchard</td>\n",
       "      <td>-58.368781</td>\n",
       "      <td>-34.601822</td>\n",
       "      <td>2021-04-10 17:47:17 UTC</td>\n",
       "      <td>207BAEcobici</td>\n",
       "      <td>123 - BASUALDO Y RODO</td>\n",
       "      <td>Basualdo 1218</td>\n",
       "      <td>-58.492634</td>\n",
       "      <td>-34.649324</td>\n",
       "      <td>77965BAEcobici</td>\n",
       "      <td>ICONIC</td>\n",
       "    </tr>\n",
       "  </tbody>\n",
       "</table>\n",
       "</div>"
      ],
      "text/plain": [
       "        id_recorrido  duracion_recorrido   fecha_origen_recorrido  \\\n",
       "0  10758473BAEcobici                 591  2021-04-10 20:38:24 UTC   \n",
       "1  10757803BAEcobici                1321  2021-04-10 16:34:08 UTC   \n",
       "2  10756603BAEcobici                 380  2021-04-10 07:06:00 UTC   \n",
       "3  10756618BAEcobici                1436  2021-04-10 07:25:08 UTC   \n",
       "4  10757830BAEcobici                3736  2021-04-10 16:45:01 UTC   \n",
       "\n",
       "  id_estacion_origen nombre_estacion_origen  \\\n",
       "0         2BAEcobici         002 - Retiro I   \n",
       "1         2BAEcobici         002 - Retiro I   \n",
       "2         3BAEcobici           003 - ADUANA   \n",
       "3         4BAEcobici       004 - Plaza Roma   \n",
       "4         4BAEcobici       004 - Plaza Roma   \n",
       "\n",
       "                           direccion_estacion_origen  long_estacion_origen  \\\n",
       "0  Ramos Mejia, Jose Maria, Dr. Av. & Del Liberta...            -58.374715   \n",
       "1  Ramos Mejia, Jose Maria, Dr. Av. & Del Liberta...            -58.374715   \n",
       "2                            Moreno & Av Paseo Colon            -58.368260   \n",
       "3                                 Lavalle & Bouchard            -58.368781   \n",
       "4                                 Lavalle & Bouchard            -58.368781   \n",
       "\n",
       "   lat_estacion_origen  fecha_destino_recorrido id_estacion_destino  \\\n",
       "0           -34.592423  2021-04-10 20:48:15 UTC         95BAEcobici   \n",
       "1           -34.592423  2021-04-10 16:56:09 UTC         73BAEcobici   \n",
       "2           -34.611032  2021-04-10 07:12:20 UTC        150BAEcobici   \n",
       "3           -34.601822  2021-04-10 07:49:04 UTC        353BAEcobici   \n",
       "4           -34.601822  2021-04-10 17:47:17 UTC        207BAEcobici   \n",
       "\n",
       "    nombre_estacion_destino                  direccion_estacion_destino  \\\n",
       "0           095 - ESMERALDA                               ESMERALDA 516   \n",
       "1  073 - Ruy Díaz de Guzmán  Avenida Martin Garcia y Ruy Díaz de Guzmán   \n",
       "2       150 - RODRIGO BUENO                             Av. España 2200   \n",
       "3       237 - Madero Office          367 Sanchez De Thompson, Mariquita   \n",
       "4     123 - BASUALDO Y RODO                               Basualdo 1218   \n",
       "\n",
       "   long_estacion_destino  lat_estacion_destino       id_usuario  \\\n",
       "0             -58.378168            -34.602112   86840BAEcobici   \n",
       "1             -58.371823            -34.630681   52860BAEcobici   \n",
       "2             -58.355465            -34.618755  375594BAEcobici   \n",
       "3             -58.364695            -34.599036  489972BAEcobici   \n",
       "4             -58.492634            -34.649324   77965BAEcobici   \n",
       "\n",
       "  modelo_bicicleta  \n",
       "0           ICONIC  \n",
       "1           ICONIC  \n",
       "2           ICONIC  \n",
       "3           ICONIC  \n",
       "4           ICONIC  "
      ]
     },
     "execution_count": 42,
     "metadata": {},
     "output_type": "execute_result"
    }
   ],
   "source": [
    "#Lectura de archivo .csv\n",
    "\n",
    "df = pd.read_csv('trips_2021.csv')\n",
    "\n",
    "#Visualizar primeras 5 filas de datos\n",
    "df.head()"
   ]
  },
  {
   "cell_type": "code",
   "execution_count": 43,
   "metadata": {
    "colab": {
     "base_uri": "https://localhost:8080/"
    },
    "id": "kBNlpSZ4JbzM",
    "outputId": "084c7f9b-eaf1-41f0-afd5-a17da17bcd42",
    "scrolled": true
   },
   "outputs": [
    {
     "name": "stdout",
     "output_type": "stream",
     "text": [
      "El tamaño de la base de datos es de: (2649845, 16)\n"
     ]
    }
   ],
   "source": [
    "#Visualizar tamaño de la base de datos\n",
    "print(\"El tamaño de la base de datos es de:\", df.shape)"
   ]
  },
  {
   "cell_type": "code",
   "execution_count": 44,
   "metadata": {
    "colab": {
     "base_uri": "https://localhost:8080/"
    },
    "id": "EGU669HLKQqh",
    "outputId": "1cc71d62-73bf-4118-ce5a-266688ccb333",
    "scrolled": false
   },
   "outputs": [
    {
     "name": "stdout",
     "output_type": "stream",
     "text": [
      "<class 'pandas.core.frame.DataFrame'>\n",
      "RangeIndex: 2649845 entries, 0 to 2649844\n",
      "Data columns (total 16 columns):\n",
      " #   Column                      Dtype  \n",
      "---  ------                      -----  \n",
      " 0   id_recorrido                object \n",
      " 1   duracion_recorrido          int64  \n",
      " 2   fecha_origen_recorrido      object \n",
      " 3   id_estacion_origen          object \n",
      " 4   nombre_estacion_origen      object \n",
      " 5   direccion_estacion_origen   object \n",
      " 6   long_estacion_origen        float64\n",
      " 7   lat_estacion_origen         float64\n",
      " 8   fecha_destino_recorrido     object \n",
      " 9   id_estacion_destino         object \n",
      " 10  nombre_estacion_destino     object \n",
      " 11  direccion_estacion_destino  object \n",
      " 12  long_estacion_destino       float64\n",
      " 13  lat_estacion_destino        float64\n",
      " 14  id_usuario                  object \n",
      " 15  modelo_bicicleta            object \n",
      "dtypes: float64(4), int64(1), object(11)\n",
      "memory usage: 323.5+ MB\n"
     ]
    }
   ],
   "source": [
    "#Información general sobre la base de datos: Columnas, datos nulos y tipo de datos\n",
    "df.info()"
   ]
  },
  {
   "cell_type": "code",
   "execution_count": 45,
   "metadata": {},
   "outputs": [
    {
     "data": {
      "text/plain": [
       "id_recorrido                  0\n",
       "duracion_recorrido            0\n",
       "fecha_origen_recorrido        0\n",
       "id_estacion_origen            0\n",
       "nombre_estacion_origen        0\n",
       "direccion_estacion_origen     0\n",
       "long_estacion_origen          0\n",
       "lat_estacion_origen           0\n",
       "fecha_destino_recorrido       0\n",
       "id_estacion_destino           0\n",
       "nombre_estacion_destino       0\n",
       "direccion_estacion_destino    0\n",
       "long_estacion_destino         0\n",
       "lat_estacion_destino          0\n",
       "id_usuario                    0\n",
       "modelo_bicicleta              0\n",
       "dtype: int64"
      ]
     },
     "execution_count": 45,
     "metadata": {},
     "output_type": "execute_result"
    }
   ],
   "source": [
    "df.isna().sum()"
   ]
  },
  {
   "cell_type": "markdown",
   "metadata": {
    "id": "UfscnwZZPTJI"
   },
   "source": [
    "# La base no requiere una limpieza de datos nulos ya que vemos la ausencia de estos."
   ]
  },
  {
   "cell_type": "code",
   "execution_count": 46,
   "metadata": {
    "colab": {
     "base_uri": "https://localhost:8080/",
     "height": 520
    },
    "id": "eEV_fk07LAj9",
    "outputId": "df780cb8-4c41-40fe-c373-1732b637c114",
    "scrolled": false
   },
   "outputs": [
    {
     "data": {
      "text/html": [
       "<div>\n",
       "<style scoped>\n",
       "    .dataframe tbody tr th:only-of-type {\n",
       "        vertical-align: middle;\n",
       "    }\n",
       "\n",
       "    .dataframe tbody tr th {\n",
       "        vertical-align: top;\n",
       "    }\n",
       "\n",
       "    .dataframe thead th {\n",
       "        text-align: right;\n",
       "    }\n",
       "</style>\n",
       "<table border=\"1\" class=\"dataframe\">\n",
       "  <thead>\n",
       "    <tr style=\"text-align: right;\">\n",
       "      <th></th>\n",
       "      <th>count</th>\n",
       "      <th>mean</th>\n",
       "      <th>std</th>\n",
       "      <th>min</th>\n",
       "      <th>25%</th>\n",
       "      <th>50%</th>\n",
       "      <th>75%</th>\n",
       "      <th>max</th>\n",
       "    </tr>\n",
       "  </thead>\n",
       "  <tbody>\n",
       "    <tr>\n",
       "      <th>duracion_recorrido</th>\n",
       "      <td>2649845.0</td>\n",
       "      <td>1235.183183</td>\n",
       "      <td>9773.919930</td>\n",
       "      <td>61.00000</td>\n",
       "      <td>640.000000</td>\n",
       "      <td>1015.000000</td>\n",
       "      <td>1533.000000</td>\n",
       "      <td>1.351522e+07</td>\n",
       "    </tr>\n",
       "    <tr>\n",
       "      <th>long_estacion_origen</th>\n",
       "      <td>2649845.0</td>\n",
       "      <td>-58.418870</td>\n",
       "      <td>0.032251</td>\n",
       "      <td>-58.52174</td>\n",
       "      <td>-58.441607</td>\n",
       "      <td>-58.416118</td>\n",
       "      <td>-58.395055</td>\n",
       "      <td>-5.835547e+01</td>\n",
       "    </tr>\n",
       "    <tr>\n",
       "      <th>lat_estacion_origen</th>\n",
       "      <td>2649845.0</td>\n",
       "      <td>-34.598317</td>\n",
       "      <td>0.022281</td>\n",
       "      <td>-34.68294</td>\n",
       "      <td>-34.612298</td>\n",
       "      <td>-34.598600</td>\n",
       "      <td>-34.583749</td>\n",
       "      <td>-3.454450e+01</td>\n",
       "    </tr>\n",
       "    <tr>\n",
       "      <th>long_estacion_destino</th>\n",
       "      <td>2649845.0</td>\n",
       "      <td>-58.418744</td>\n",
       "      <td>0.032425</td>\n",
       "      <td>-58.52174</td>\n",
       "      <td>-58.441607</td>\n",
       "      <td>-58.416118</td>\n",
       "      <td>-58.395055</td>\n",
       "      <td>-5.835547e+01</td>\n",
       "    </tr>\n",
       "    <tr>\n",
       "      <th>lat_estacion_destino</th>\n",
       "      <td>2649845.0</td>\n",
       "      <td>-34.598490</td>\n",
       "      <td>0.022547</td>\n",
       "      <td>-34.68294</td>\n",
       "      <td>-34.613636</td>\n",
       "      <td>-34.599036</td>\n",
       "      <td>-34.583749</td>\n",
       "      <td>-3.454450e+01</td>\n",
       "    </tr>\n",
       "  </tbody>\n",
       "</table>\n",
       "</div>"
      ],
      "text/plain": [
       "                           count         mean          std       min  \\\n",
       "duracion_recorrido     2649845.0  1235.183183  9773.919930  61.00000   \n",
       "long_estacion_origen   2649845.0   -58.418870     0.032251 -58.52174   \n",
       "lat_estacion_origen    2649845.0   -34.598317     0.022281 -34.68294   \n",
       "long_estacion_destino  2649845.0   -58.418744     0.032425 -58.52174   \n",
       "lat_estacion_destino   2649845.0   -34.598490     0.022547 -34.68294   \n",
       "\n",
       "                              25%          50%          75%           max  \n",
       "duracion_recorrido     640.000000  1015.000000  1533.000000  1.351522e+07  \n",
       "long_estacion_origen   -58.441607   -58.416118   -58.395055 -5.835547e+01  \n",
       "lat_estacion_origen    -34.612298   -34.598600   -34.583749 -3.454450e+01  \n",
       "long_estacion_destino  -58.441607   -58.416118   -58.395055 -5.835547e+01  \n",
       "lat_estacion_destino   -34.613636   -34.599036   -34.583749 -3.454450e+01  "
      ]
     },
     "execution_count": 46,
     "metadata": {},
     "output_type": "execute_result"
    }
   ],
   "source": [
    "# Descripción de la estadistica descriptiva de los datos. Información trnaspuesta para facil lectura\n",
    "df.describe().T"
   ]
  },
  {
   "cell_type": "markdown",
   "metadata": {},
   "source": [
    "# Identificamos que tenemos outliers en la columna duracion_recorrido, vamos a buscar mejor en esta columna"
   ]
  },
  {
   "cell_type": "code",
   "execution_count": 47,
   "metadata": {},
   "outputs": [
    {
     "data": {
      "text/plain": [
       "count    2.649845e+06\n",
       "mean     1.235183e+03\n",
       "std      9.773920e+03\n",
       "min      6.100000e+01\n",
       "25%      6.400000e+02\n",
       "50%      1.015000e+03\n",
       "75%      1.533000e+03\n",
       "max      1.351522e+07\n",
       "Name: duracion_recorrido, dtype: float64"
      ]
     },
     "execution_count": 47,
     "metadata": {},
     "output_type": "execute_result"
    }
   ],
   "source": [
    "df.duracion_recorrido.describe()"
   ]
  },
  {
   "cell_type": "code",
   "execution_count": 48,
   "metadata": {
    "scrolled": false
   },
   "outputs": [
    {
     "name": "stderr",
     "output_type": "stream",
     "text": [
      "C:\\ProgramData\\Anaconda3\\lib\\site-packages\\seaborn\\_decorators.py:36: FutureWarning: Pass the following variable as a keyword arg: x. From version 0.12, the only valid positional argument will be `data`, and passing other arguments without an explicit keyword will result in an error or misinterpretation.\n",
      "  warnings.warn(\n",
      "C:\\ProgramData\\Anaconda3\\lib\\site-packages\\seaborn\\_core.py:1326: UserWarning: Vertical orientation ignored with only `x` specified.\n",
      "  warnings.warn(single_var_warning.format(\"Vertical\", \"x\"))\n"
     ]
    },
    {
     "data": {
      "text/plain": [
       "<matplotlib.axes._subplots.AxesSubplot at 0x1f8b57bb160>"
      ]
     },
     "execution_count": 48,
     "metadata": {},
     "output_type": "execute_result"
    },
    {
     "data": {
      "image/png": "[encoded data removed]",
      "text/plain": [
       "<Figure size 864x576 with 1 Axes>"
      ]
     },
     "metadata": {
      "needs_background": "light"
     },
     "output_type": "display_data"
    }
   ],
   "source": [
    "from seaborn import boxplot\n",
    "fig, ax = plt.subplots(figsize = (12, 8))\n",
    "boxplot(df.duracion_recorrido, orient=\"v\")"
   ]
  },
  {
   "cell_type": "code",
   "execution_count": 31,
   "metadata": {},
   "outputs": [],
   "source": [
    "from matplotlib import rcParams"
   ]
  },
  {
   "cell_type": "code",
   "execution_count": 36,
   "metadata": {},
   "outputs": [
    {
     "name": "stderr",
     "output_type": "stream",
     "text": [
      "C:\\ProgramData\\Anaconda3\\lib\\site-packages\\seaborn\\_decorators.py:36: FutureWarning: Pass the following variable as a keyword arg: x. From version 0.12, the only valid positional argument will be `data`, and passing other arguments without an explicit keyword will result in an error or misinterpretation.\n",
      "  warnings.warn(\n"
     ]
    },
    {
     "data": {
      "text/plain": [
       "<matplotlib.axes._subplots.AxesSubplot at 0x1f89c58e6d0>"
      ]
     },
     "execution_count": 36,
     "metadata": {},
     "output_type": "execute_result"
    },
    {
     "data": {
      "image/png": "[encoded data removed]",
      "text/plain": [
       "<Figure size 1440x1080 with 1 Axes>"
      ]
     },
     "metadata": {
      "needs_background": "light"
     },
     "output_type": "display_data"
    }
   ],
   "source": [
    "fig, ax = plt.subplots(figsize = (20, 15))\n",
    "sns.countplot(df['duracion_recorrido'])"
   ]
  },
  {
   "cell_type": "code",
   "execution_count": 7,
   "metadata": {
    "colab": {
     "base_uri": "https://localhost:8080/"
    },
    "id": "MqOsIXoeMRiV",
    "outputId": "7f937da6-db64-4c10-fd5a-e59faaa0b653"
   },
   "outputs": [
    {
     "name": "stdout",
     "output_type": "stream",
     "text": [
      "Index(['id_recorrido', 'duracion_recorrido', 'fecha_origen_recorrido',\n",
      "       'id_estacion_origen', 'nombre_estacion_origen',\n",
      "       'direccion_estacion_origen', 'long_estacion_origen',\n",
      "       'lat_estacion_origen', 'fecha_destino_recorrido', 'id_estacion_destino',\n",
      "       'nombre_estacion_destino', 'direccion_estacion_destino',\n",
      "       'long_estacion_destino', 'lat_estacion_destino', 'id_usuario',\n",
      "       'modelo_bicicleta'],\n",
      "      dtype='object')\n"
     ]
    }
   ],
   "source": [
    "#Nombrar atributos\n",
    "print(df.keys())"
   ]
  },
  {
   "cell_type": "raw",
   "metadata": {
    "id": "eDFeJDyCTMxb"
   },
   "source": [
    "## \n",
    "\n",
    "Identificamos que esta la columna duracion_recorrido esta desbalanceada, se requiere ejecutar un drop para eliminar todas las filas para las cuales el valor de \"duracion_recorrido\" sea mayor a 2mm, consideramos estas como outliers.  \n",
    "\n",
    "Ese último valor se escogió dada la distribución de los datos mostrada en los graficos, principalmente en el boxplot.\n"
   ]
  },
  {
   "cell_type": "code",
   "execution_count": 49,
   "metadata": {
    "id": "e6NnNOYjPNeO"
   },
   "outputs": [],
   "source": [
    "df.drop(df[df['duracion_recorrido'] > 2000000].index, inplace = True)"
   ]
  },
  {
   "cell_type": "code",
   "execution_count": 50,
   "metadata": {
    "scrolled": false
   },
   "outputs": [
    {
     "name": "stderr",
     "output_type": "stream",
     "text": [
      "C:\\ProgramData\\Anaconda3\\lib\\site-packages\\seaborn\\_decorators.py:36: FutureWarning: Pass the following variable as a keyword arg: x. From version 0.12, the only valid positional argument will be `data`, and passing other arguments without an explicit keyword will result in an error or misinterpretation.\n",
      "  warnings.warn(\n",
      "C:\\ProgramData\\Anaconda3\\lib\\site-packages\\seaborn\\_core.py:1326: UserWarning: Vertical orientation ignored with only `x` specified.\n",
      "  warnings.warn(single_var_warning.format(\"Vertical\", \"x\"))\n"
     ]
    },
    {
     "data": {
      "text/plain": [
       "<matplotlib.axes._subplots.AxesSubplot at 0x1f8b5929910>"
      ]
     },
     "execution_count": 50,
     "metadata": {},
     "output_type": "execute_result"
    },
    {
     "data": {
      "image/png": "[encoded data removed]",
      "text/plain": [
       "<Figure size 864x576 with 1 Axes>"
      ]
     },
     "metadata": {
      "needs_background": "light"
     },
     "output_type": "display_data"
    }
   ],
   "source": [
    "from seaborn import boxplot\n",
    "fig, ax = plt.subplots(figsize = (12, 8))\n",
    "boxplot(df.duracion_recorrido, orient=\"v\")"
   ]
  },
  {
   "cell_type": "markdown",
   "metadata": {
    "id": "0Qhoy9EIY1JH"
   },
   "source": [
    "Vemos que continuamos con outliers demarcados, debido a esto se decidio realizar una busqueda sobre la duracion delimitada del uso de las bicicletas y se identifico que el tipo maximo establecido por el estado es de 30 minutos, osea 1800segundos, lo que sobrepase esto puede ser considerado outlier (siempre y cuando nuestro analisis no requiera sacar informacion de los casos que se pasan del tiempo solicitado) fuente:https://www.buenosaires.gob.ar/noticias/ecobici-el-tiempo-maximo-de-uso-es-de-30-minutos#:~:text=30%20minutos%20m%C3%A1ximo%20por%20viaje,usuario%20debe%20esperar%2015%20minutos.\n",
    "\n",
    "Vamos a cortar el dataset por duracion del viaje en 3000."
   ]
  },
  {
   "cell_type": "code",
   "execution_count": 52,
   "metadata": {},
   "outputs": [],
   "source": [
    "df.drop(df[df['duracion_recorrido'] > 3000].index, inplace = True)"
   ]
  },
  {
   "cell_type": "code",
   "execution_count": 53,
   "metadata": {
    "scrolled": true
   },
   "outputs": [
    {
     "data": {
      "text/html": [
       "<div>\n",
       "<style scoped>\n",
       "    .dataframe tbody tr th:only-of-type {\n",
       "        vertical-align: middle;\n",
       "    }\n",
       "\n",
       "    .dataframe tbody tr th {\n",
       "        vertical-align: top;\n",
       "    }\n",
       "\n",
       "    .dataframe thead th {\n",
       "        text-align: right;\n",
       "    }\n",
       "</style>\n",
       "<table border=\"1\" class=\"dataframe\">\n",
       "  <thead>\n",
       "    <tr style=\"text-align: right;\">\n",
       "      <th></th>\n",
       "      <th>count</th>\n",
       "      <th>mean</th>\n",
       "      <th>std</th>\n",
       "      <th>min</th>\n",
       "      <th>25%</th>\n",
       "      <th>50%</th>\n",
       "      <th>75%</th>\n",
       "      <th>max</th>\n",
       "    </tr>\n",
       "  </thead>\n",
       "  <tbody>\n",
       "    <tr>\n",
       "      <th>duracion_recorrido</th>\n",
       "      <td>2555436.0</td>\n",
       "      <td>1092.299501</td>\n",
       "      <td>591.994078</td>\n",
       "      <td>61.00000</td>\n",
       "      <td>628.000000</td>\n",
       "      <td>985.000000</td>\n",
       "      <td>1465.000000</td>\n",
       "      <td>3000.000000</td>\n",
       "    </tr>\n",
       "    <tr>\n",
       "      <th>long_estacion_origen</th>\n",
       "      <td>2555436.0</td>\n",
       "      <td>-58.418776</td>\n",
       "      <td>0.032081</td>\n",
       "      <td>-58.52174</td>\n",
       "      <td>-58.440584</td>\n",
       "      <td>-58.416118</td>\n",
       "      <td>-58.395055</td>\n",
       "      <td>-58.355465</td>\n",
       "    </tr>\n",
       "    <tr>\n",
       "      <th>lat_estacion_origen</th>\n",
       "      <td>2555436.0</td>\n",
       "      <td>-34.598408</td>\n",
       "      <td>0.022154</td>\n",
       "      <td>-34.68294</td>\n",
       "      <td>-34.612298</td>\n",
       "      <td>-34.598600</td>\n",
       "      <td>-34.583749</td>\n",
       "      <td>-34.544503</td>\n",
       "    </tr>\n",
       "    <tr>\n",
       "      <th>long_estacion_destino</th>\n",
       "      <td>2555436.0</td>\n",
       "      <td>-58.418619</td>\n",
       "      <td>0.032241</td>\n",
       "      <td>-58.52174</td>\n",
       "      <td>-58.440584</td>\n",
       "      <td>-58.416118</td>\n",
       "      <td>-58.395055</td>\n",
       "      <td>-58.355465</td>\n",
       "    </tr>\n",
       "    <tr>\n",
       "      <th>lat_estacion_destino</th>\n",
       "      <td>2555436.0</td>\n",
       "      <td>-34.598592</td>\n",
       "      <td>0.022405</td>\n",
       "      <td>-34.68294</td>\n",
       "      <td>-34.612346</td>\n",
       "      <td>-34.599036</td>\n",
       "      <td>-34.583749</td>\n",
       "      <td>-34.544503</td>\n",
       "    </tr>\n",
       "  </tbody>\n",
       "</table>\n",
       "</div>"
      ],
      "text/plain": [
       "                           count         mean         std       min  \\\n",
       "duracion_recorrido     2555436.0  1092.299501  591.994078  61.00000   \n",
       "long_estacion_origen   2555436.0   -58.418776    0.032081 -58.52174   \n",
       "lat_estacion_origen    2555436.0   -34.598408    0.022154 -34.68294   \n",
       "long_estacion_destino  2555436.0   -58.418619    0.032241 -58.52174   \n",
       "lat_estacion_destino   2555436.0   -34.598592    0.022405 -34.68294   \n",
       "\n",
       "                              25%         50%          75%          max  \n",
       "duracion_recorrido     628.000000  985.000000  1465.000000  3000.000000  \n",
       "long_estacion_origen   -58.440584  -58.416118   -58.395055   -58.355465  \n",
       "lat_estacion_origen    -34.612298  -34.598600   -34.583749   -34.544503  \n",
       "long_estacion_destino  -58.440584  -58.416118   -58.395055   -58.355465  \n",
       "lat_estacion_destino   -34.612346  -34.599036   -34.583749   -34.544503  "
      ]
     },
     "execution_count": 53,
     "metadata": {},
     "output_type": "execute_result"
    }
   ],
   "source": [
    "# Descripción de la estadistica descriptiva de los datos. comparando con la descripcion anterior, \n",
    "\n",
    "df.describe().T"
   ]
  },
  {
   "cell_type": "markdown",
   "metadata": {
    "id": "0Qhoy9EIY1JH"
   },
   "source": [
    "Vemos que el percentil 75% disminuyo un poco."
   ]
  },
  {
   "cell_type": "code",
   "execution_count": 54,
   "metadata": {},
   "outputs": [
    {
     "name": "stdout",
     "output_type": "stream",
     "text": [
      "El tamaño de la base de datos es de: (2555436, 16)\n"
     ]
    }
   ],
   "source": [
    "#Veamos el tamaño actual de la base de datos, teniendo en cuenta que anteriormente eran 2649845\n",
    "print(\"El tamaño de la base de datos es de:\", df.shape)"
   ]
  },
  {
   "cell_type": "code",
   "execution_count": 55,
   "metadata": {},
   "outputs": [
    {
     "name": "stderr",
     "output_type": "stream",
     "text": [
      "C:\\ProgramData\\Anaconda3\\lib\\site-packages\\seaborn\\_decorators.py:36: FutureWarning: Pass the following variable as a keyword arg: x. From version 0.12, the only valid positional argument will be `data`, and passing other arguments without an explicit keyword will result in an error or misinterpretation.\n",
      "  warnings.warn(\n",
      "C:\\ProgramData\\Anaconda3\\lib\\site-packages\\seaborn\\_core.py:1326: UserWarning: Vertical orientation ignored with only `x` specified.\n",
      "  warnings.warn(single_var_warning.format(\"Vertical\", \"x\"))\n"
     ]
    },
    {
     "data": {
      "text/plain": [
       "<matplotlib.axes._subplots.AxesSubplot at 0x1f8b5a88610>"
      ]
     },
     "execution_count": 55,
     "metadata": {},
     "output_type": "execute_result"
    },
    {
     "data": {
      "image/png": "[encoded data removed]",
      "text/plain": [
       "<Figure size 864x576 with 1 Axes>"
      ]
     },
     "metadata": {
      "needs_background": "light"
     },
     "output_type": "display_data"
    }
   ],
   "source": [
    "from seaborn import boxplot\n",
    "fig, ax = plt.subplots(figsize = (12, 8))\n",
    "boxplot(df.duracion_recorrido, orient=\"v\")"
   ]
  },
  {
   "cell_type": "markdown",
   "metadata": {},
   "source": [
    "# Ahora si podemos ver que la duracion disminuyo en outliers y se puede apreciar mejor el boxplot. Vemos que tenemos la mayor parte de las duraciones entre 500 y 1500, y ahora tenemos ouliers \"sanos\" luego de los 2800 "
   ]
  },
  {
   "cell_type": "code",
   "execution_count": 56,
   "metadata": {
    "scrolled": true
   },
   "outputs": [
    {
     "name": "stderr",
     "output_type": "stream",
     "text": [
      "C:\\ProgramData\\Anaconda3\\lib\\site-packages\\seaborn\\_decorators.py:36: FutureWarning: Pass the following variable as a keyword arg: x. From version 0.12, the only valid positional argument will be `data`, and passing other arguments without an explicit keyword will result in an error or misinterpretation.\n",
      "  warnings.warn(\n"
     ]
    },
    {
     "data": {
      "text/plain": [
       "<matplotlib.axes._subplots.AxesSubplot at 0x1f8b58fc9a0>"
      ]
     },
     "execution_count": 56,
     "metadata": {},
     "output_type": "execute_result"
    },
    {
     "data": {
      "image/png": "[encoded data removed]",
      "text/plain": [
       "<Figure size 1440x1080 with 1 Axes>"
      ]
     },
     "metadata": {
      "needs_background": "light"
     },
     "output_type": "display_data"
    }
   ],
   "source": [
    "fig, ax = plt.subplots(figsize = (20, 15))\n",
    "sns.countplot(df['duracion_recorrido'])"
   ]
  },
  {
   "cell_type": "markdown",
   "metadata": {},
   "source": [
    "# Con el resultado de este Dataset, vamos a trabajar en SQl y luego en Power BI"
   ]
  }
 ],
 "metadata": {
  "colab": {
   "collapsed_sections": [],
   "name": "Proyecto Final+Rodriguez_Peralta_Romero.ipynb",
   "provenance": []
  },
  "kernelspec": {
   "display_name": "Python 3",
   "language": "python",
   "name": "python3"
  },
  "language_info": {
   "codemirror_mode": {
    "name": "ipython",
    "version": 3
   },
   "file_extension": ".py",
   "mimetype": "text/x-python",
   "name": "python",
   "nbconvert_exporter": "python",
   "pygments_lexer": "ipython3",
   "version": "3.8.3"
  }
 },
 "nbformat": 4,
 "nbformat_minor": 1
}
